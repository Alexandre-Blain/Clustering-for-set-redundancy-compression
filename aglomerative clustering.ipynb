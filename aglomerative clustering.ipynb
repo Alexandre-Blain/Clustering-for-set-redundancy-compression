{
 "cells": [
  {
   "cell_type": "code",
   "execution_count": 19,
   "id": "79e3cf99",
   "metadata": {},
   "outputs": [],
   "source": [
    "import numpy as np\n",
    "import matplotlib.pyplot as plt\n",
    "from keras.datasets import mnist, cifar10\n",
    "import ssl\n",
    "ssl._create_default_https_context = ssl._create_unverified_context\n",
    "from IPython.display import clear_output"
   ]
  },
  {
   "cell_type": "code",
   "execution_count": 2,
   "id": "6b999c7e",
   "metadata": {},
   "outputs": [],
   "source": [
    "(x_trainrgb, y_trainrgb), (x_testrgb, y_testrgb) = mnist.load_data()"
   ]
  },
  {
   "cell_type": "code",
   "execution_count": 11,
   "id": "be93cf98",
   "metadata": {},
   "outputs": [
    {
     "data": {
      "text/plain": [
       "(70000, 28, 28)"
      ]
     },
     "execution_count": 11,
     "metadata": {},
     "output_type": "execute_result"
    }
   ],
   "source": [
    "(x_train, y_train), (x_test, y_test) = mnist.load_data()\n",
    "x_train= np.concatenate([x_train, x_test])\n",
    "x_train.shape"
   ]
  },
  {
   "cell_type": "code",
   "execution_count": 12,
   "id": "3e689a54",
   "metadata": {},
   "outputs": [],
   "source": [
    "#modif format image cifar10\n",
    "x_trainc = x_trainrgb.astype('float32')/255.\n",
    "x_testrnc = x_testrgb.astype('float32')/255.\n",
    "x_trainrnc = x_trainrgb.reshape((len(x_trainrgb), np.prod(x_trainrgb.shape[1:])))\n",
    "x_testrnc = x_testrgb.reshape((len(x_testrgb), np.prod(x_testrgb.shape[1:])))"
   ]
  },
  {
   "cell_type": "code",
   "execution_count": 13,
   "id": "5a8f6b34",
   "metadata": {},
   "outputs": [],
   "source": [
    "#modif format image mnist\n",
    "x_trainrn = x_train.astype('float32')/255.\n",
    "x_testrn = x_test.astype('float32')/255.\n",
    "x_trainrn = x_train.reshape((len(x_train), np.prod(x_train.shape[1:])))\n",
    "x_testrn = x_test.reshape((len(x_test), np.prod(x_test.shape[1:])))"
   ]
  },
  {
   "cell_type": "code",
   "execution_count": 14,
   "id": "046e3ca2",
   "metadata": {},
   "outputs": [
    {
     "data": {
      "text/plain": [
       "<matplotlib.image.AxesImage at 0x1e3164cf430>"
      ]
     },
     "execution_count": 14,
     "metadata": {},
     "output_type": "execute_result"
    },
    {
     "data": {
      "image/png": "[encoded data removed]",
      "text/plain": [
       "<Figure size 432x288 with 1 Axes>"
      ]
     },
     "metadata": {
      "needs_background": "light"
     },
     "output_type": "display_data"
    }
   ],
   "source": [
    "plt.imshow(x_train[0],cmap=plt.get_cmap('gray'))"
   ]
  },
  {
   "cell_type": "code",
   "execution_count": 15,
   "id": "b2706c90",
   "metadata": {},
   "outputs": [],
   "source": [
    "from sklearn.cluster import AgglomerativeClustering"
   ]
  },
  {
   "cell_type": "code",
   "execution_count": 17,
   "id": "dab535b7",
   "metadata": {},
   "outputs": [
    {
     "data": {
      "text/plain": [
       "(10000, 28, 28)"
      ]
     },
     "execution_count": 17,
     "metadata": {},
     "output_type": "execute_result"
    }
   ],
   "source": [
    "#reduction du nombre d'image cifar10\n",
    "x_color_cut=x_train[:10000,:]\n",
    "x_color_cut.shape"
   ]
  },
  {
   "cell_type": "code",
   "execution_count": 18,
   "id": "959823c8",
   "metadata": {},
   "outputs": [
    {
     "data": {
      "text/plain": [
       "(10000, 784)"
      ]
     },
     "execution_count": 18,
     "metadata": {},
     "output_type": "execute_result"
    }
   ],
   "source": [
    "#reduction du nombre d'image Mnist\n",
    "xcut=x_trainrn[:10000,:]\n",
    "xcut.shape"
   ]
  },
  {
   "cell_type": "code",
   "execution_count": 22,
   "id": "7bab2a86",
   "metadata": {},
   "outputs": [
    {
     "name": "stdout",
     "output_type": "stream",
     "text": [
      "97.5\n"
     ]
    }
   ],
   "source": [
    "#fonction qui choisit différentes tailles de cluster pour trouver le nombre de cluster optimaux\n",
    "list_taille_clusters=np.arange(1,160,4)\n",
    "list_clusters=[]\n",
    "j=0\n",
    "for i in list_taille_clusters:\n",
    "    clear_output(wait=True)\n",
    "    print((j/len(list_taille_clusters))*100)\n",
    "    ac = AgglomerativeClustering(n_clusters=i)\n",
    "    clusters = ac.fit(xcut)\n",
    "    list_clusters+= [clusters.labels_]\n",
    "    j+=1"
   ]
  },
  {
   "cell_type": "code",
   "execution_count": 23,
   "id": "e83f3c2d",
   "metadata": {},
   "outputs": [],
   "source": [
    "for i in range (len(list_clusters)):\n",
    "    path=\".\\Clusters\\AC\"+list_taille_clusters[i].astype(str) +\".npy \"\n",
    "    np.save(path, list_clusters[i])"
   ]
  },
  {
   "cell_type": "code",
   "execution_count": 17,
   "id": "cbb14bc4",
   "metadata": {},
   "outputs": [
    {
     "data": {
      "text/plain": [
       "[array([0, 0, 0, ..., 0, 0, 0], dtype=int64),\n",
       " array([4, 1, 2, ..., 4, 4, 1], dtype=int64),\n",
       " array([0, 7, 6, ..., 0, 0, 7], dtype=int64),\n",
       " array([4, 7, 5, ..., 9, 4, 7], dtype=int64),\n",
       " array([ 1,  7, 16, ...,  4,  1,  7], dtype=int64),\n",
       " array([4, 3, 7, ..., 9, 4, 3], dtype=int64),\n",
       " array([4, 1, 7, ..., 9, 4, 1], dtype=int64),\n",
       " array([ 4, 11,  1, ...,  9,  4, 11], dtype=int64),\n",
       " array([ 8, 11, 30, ...,  0, 32, 11], dtype=int64),\n",
       " array([ 3, 11, 30, ..., 16, 32, 11], dtype=int64),\n",
       " array([ 1,  5, 30, ..., 16, 32,  5], dtype=int64),\n",
       " array([20,  0, 30, ..., 16, 32,  0], dtype=int64),\n",
       " array([20, 24, 30, ..., 16, 32, 24], dtype=int64),\n",
       " array([20, 49, 30, ...,  7, 32, 49], dtype=int64),\n",
       " array([20, 49, 30, ...,  3, 15, 49], dtype=int64),\n",
       " array([ 9, 49, 30, ..., 34, 15, 49], dtype=int64),\n",
       " array([ 1, 49, 30, ..., 34, 15, 49], dtype=int64),\n",
       " array([ 9, 49, 30, ..., 34,  3, 49], dtype=int64),\n",
       " array([ 9, 49, 30, ..., 34,  1, 49], dtype=int64),\n",
       " array([ 1, 49, 30, ..., 34, 74, 49], dtype=int64),\n",
       " array([30, 49,  6, ..., 34, 74, 49], dtype=int64),\n",
       " array([30, 49,  6, ..., 16, 74, 49], dtype=int64),\n",
       " array([14, 24, 12, ...,  7, 74, 24], dtype=int64),\n",
       " array([14, 24, 12, ...,  7, 74, 24], dtype=int64),\n",
       " array([14, 11, 12, ...,  1, 74, 11], dtype=int64),\n",
       " array([14,  2, 12, ..., 58, 74,  2], dtype=int64),\n",
       " array([  6,  62,   5, ...,  58,  74, 102], dtype=int64),\n",
       " array([108,  62,   5, ...,  28,  74, 102], dtype=int64),\n",
       " array([108,  62,   2, ...,  28,  74, 102], dtype=int64),\n",
       " array([108,  62,   0, ...,  28,  74, 102], dtype=int64),\n",
       " array([108,  62,   6, ...,  28,  74, 102], dtype=int64),\n",
       " array([108,  62,   6, ...,  28,  74, 102], dtype=int64),\n",
       " array([108,  62,   6, ...,  28,  74, 102], dtype=int64),\n",
       " array([108,  62,   2, ...,  28,  74, 102], dtype=int64),\n",
       " array([108,  62,   2, ...,  28,  74, 102], dtype=int64),\n",
       " array([108,  62,  79, ...,  28,  74, 102], dtype=int64),\n",
       " array([108,  62,  79, ...,  28,  36, 102], dtype=int64),\n",
       " array([108,  62,  79, ...,  28,  36, 102], dtype=int64),\n",
       " array([108,  62,  79, ...,  28,  36, 102], dtype=int64),\n",
       " array([108,  62,  79, ...,  28,  36, 102], dtype=int64)]"
      ]
     },
     "execution_count": 17,
     "metadata": {},
     "output_type": "execute_result"
    }
   ],
   "source": [
    "list_clusters"
   ]
  },
  {
   "cell_type": "code",
   "execution_count": null,
   "id": "36d01fc0",
   "metadata": {},
   "outputs": [],
   "source": []
  }
 ],
 "metadata": {
  "kernelspec": {
   "display_name": "Python 3",
   "language": "python",
   "name": "python3"
  },
  "language_info": {
   "codemirror_mode": {
    "name": "ipython",
    "version": 3
   },
   "file_extension": ".py",
   "mimetype": "text/x-python",
   "name": "python",
   "nbconvert_exporter": "python",
   "pygments_lexer": "ipython3",
   "version": "3.8.8"
  }
 },
 "nbformat": 4,
 "nbformat_minor": 5
}
