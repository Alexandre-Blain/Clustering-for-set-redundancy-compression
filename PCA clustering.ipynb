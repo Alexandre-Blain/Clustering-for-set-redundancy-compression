{
 "cells": [
  {
   "cell_type": "code",
   "execution_count": 59,
   "id": "d1f371a3",
   "metadata": {},
   "outputs": [],
   "source": [
    "import numpy as np\n",
    "from sklearn.decomposition import PCA\n",
    "from sklearn.cluster import AgglomerativeClustering\n",
    "from scipy.cluster.hierarchy import dendrogram, linkage\n",
    "import matplotlib.pyplot as plt\n",
    "from sklearn.cluster import KMeans\n",
    "import seaborn as sns\n",
    "from keras.datasets import mnist, cifar10\n",
    "import ssl\n",
    "ssl._create_default_https_context = ssl._create_unverified_context\n",
    "from IPython.display import clear_output\n",
    "import random\n",
    "from sklearn.cluster import AgglomerativeClustering"
   ]
  },
  {
   "cell_type": "code",
   "execution_count": 112,
   "id": "8fe3bb20",
   "metadata": {},
   "outputs": [
    {
     "data": {
      "text/plain": [
       "(32, 32, 3)"
      ]
     },
     "execution_count": 112,
     "metadata": {},
     "output_type": "execute_result"
    }
   ],
   "source": [
    "(x_train, y_train), (x_test, y_test) = cifar10.load_data()\n",
    "x_train= np.concatenate([x_train, x_test])\n",
    "x_train = x_train.astype('float32')/255.\n",
    "x_train=x_train[:10000,:]\n",
    "x_train[i].shape"
   ]
  },
  {
   "cell_type": "code",
   "execution_count": 21,
   "id": "1d78be7b",
   "metadata": {},
   "outputs": [
    {
     "data": {
      "image/png": "[encoded data removed]",
      "text/plain": [
       "<Figure size 432x288 with 1 Axes>"
      ]
     },
     "metadata": {
      "needs_background": "light"
     },
     "output_type": "display_data"
    },
    {
     "name": "stdout",
     "output_type": "stream",
     "text": [
      "0.9336541891098022\n"
     ]
    }
   ],
   "source": [
    "C = pcaR.fit(x_train.shape).transform(x_train)\n",
    "explained_variance_ratio = pcaR.explained_variance_ratio_\n",
    "\n",
    "n_bars = 3\n",
    "x = np.arange(1, n_bars + 1)\n",
    "plt.bar(x, explained_variance_ratio[:n_bars])\n",
    "\n",
    "plt.xlabel(\"Number of components\")\n",
    "plt.ylabel(\"Percentage of explained variance\")\n",
    "plt.show()\n",
    "\n",
    "print(sum([explained_variance_ratio[i] for i in range(1)]))"
   ]
  },
  {
   "cell_type": "code",
   "execution_count": 61,
   "id": "8727b6f4",
   "metadata": {},
   "outputs": [],
   "source": [
    "test=x_train[0].reshape(-1,3)\n",
    "test.shape\n",
    "x_train = x_train.astype('float32')/255."
   ]
  },
  {
   "cell_type": "code",
   "execution_count": 83,
   "id": "14e872b7",
   "metadata": {},
   "outputs": [
    {
     "data": {
      "image/png": "[encoded data removed]",
      "text/plain": [
       "<Figure size 720x720 with 1 Axes>"
      ]
     },
     "metadata": {
      "needs_background": "light"
     },
     "output_type": "display_data"
    }
   ],
   "source": [
    "n=1000\n",
    "tot=[]\n",
    "tot1=[]\n",
    "tot2=[]\n",
    "tot3=[]\n",
    "tot4=[]\n",
    "pcaR = PCA()\n",
    "l = [random.randint(0, 2000) for i in range(n)]\n",
    "plt.figure(figsize=(10,10))\n",
    "for i in range(n):\n",
    "    #plt.subplot(5,3,i+1)\n",
    "    C = pcaR.fit(x_train[l[i]])\n",
    "    explained_variance_ratio = pcaR.explained_variance_ratio_\n",
    "\n",
    "    n_bars = 10\n",
    "    x = np.arange(1, n_bars + 1)\n",
    "    plt.bar(x, explained_variance_ratio[:n_bars])\n",
    "    plt.xlabel(\"Number of components\")\n",
    "    plt.ylabel(\"Percentage of explained variance\")\n",
    "    tot+=[explained_variance_ratio[0]]\n",
    "    tot1+=[explained_variance_ratio[1]]\n",
    "    tot2+=[explained_variance_ratio[2]]\n",
    "    tot3+=[explained_variance_ratio[3]]\n",
    "    tot4+=[explained_variance_ratio[4]]\n",
    "sum_4=np.array(tot)+np.array(tot1)+np.array(tot2)+np.array(tot3)\n",
    "sum_5=np.array(tot)+np.array(tot1)+np.array(tot2)+np.array(tot3)+np.array(tot4)"
   ]
  },
  {
   "cell_type": "code",
   "execution_count": 81,
   "id": "c7ec6c9e",
   "metadata": {},
   "outputs": [
    {
     "data": {
      "text/plain": [
       "array([0.63189995, 0.70966065, 0.582572  , 0.5616421 , 0.7870631 ,\n",
       "       0.6111965 ], dtype=float32)"
      ]
     },
     "execution_count": 81,
     "metadata": {},
     "output_type": "execute_result"
    }
   ],
   "source": [
    "np.array(tot)+np.array(tot1)"
   ]
  },
  {
   "cell_type": "code",
   "execution_count": 94,
   "id": "a8f9df52",
   "metadata": {},
   "outputs": [
    {
     "name": "stdout",
     "output_type": "stream",
     "text": [
      "median 4 dim: 0.9109971523284912\n",
      "median 5 dim: 0.9534310698509216\n"
     ]
    },
    {
     "data": {
      "image/png": "[encoded data removed]",
      "text/plain": [
       "<Figure size 432x288 with 1 Axes>"
      ]
     },
     "metadata": {
      "needs_background": "light"
     },
     "output_type": "display_data"
    }
   ],
   "source": [
    "fig1, ax1 = plt.subplots()\n",
    "ax1.set_title('Boxplot of the first 4 meta-variable of the PCA')\n",
    "ax1.boxplot(sum_4, patch_artist=True, boxprops=dict(facecolor='red', color='red'))\n",
    "median_value = np.percentile(sum_4, 50) \n",
    "print(\"median 4 dim:\",median_value) \n",
    "print(\"median 5 dim:\",np.percentile(sum_5, 50) )"
   ]
  },
  {
   "cell_type": "code",
   "execution_count": 100,
   "id": "282ac577",
   "metadata": {},
   "outputs": [
    {
     "data": {
      "text/plain": [
       "array([-0.6968512 , -0.6968512 , -0.6968512 , -0.6968512 , -0.6968512 ,\n",
       "       -0.7215661 , -0.49232516, -0.28242123, -0.02094102,  0.2641239 ,\n",
       "        0.38725987,  0.5642208 ,  0.7611984 ,  0.8872214 ,  1.6307813 ,\n",
       "        2.3585863 ,  1.0637252 , -0.05673763, -0.19691302, -0.19691302,\n",
       "       -0.13078323, -0.12857752, -0.02870256, -0.02740389, -0.05902365,\n",
       "       -0.6968512 , -0.6968512 , -0.6968512 ], dtype=float32)"
      ]
     },
     "execution_count": 100,
     "metadata": {},
     "output_type": "execute_result"
    }
   ],
   "source": [
    "pcaR.fit(x_train[2]).transform(x_train[2])[:,0]"
   ]
  },
  {
   "cell_type": "code",
   "execution_count": 101,
   "id": "0a6e81ba",
   "metadata": {},
   "outputs": [
    {
     "name": "stdout",
     "output_type": "stream",
     "text": [
      "99.0\n"
     ]
    }
   ],
   "source": [
    "liste_PCA=[]\n",
    "j=0\n",
    "for i in range (len(x_train)):\n",
    "    if (j%100)==0 :\n",
    "        clear_output(wait=True)\n",
    "        print((j/len(x_train))*100)\n",
    "    liste_PCA += [pcaR.fit(x_train[i]).transform(x_train[i])[:,:3]]\n",
    "    j+=1"
   ]
  },
  {
   "cell_type": "code",
   "execution_count": 109,
   "id": "8c8895fa",
   "metadata": {},
   "outputs": [
    {
     "data": {
      "text/plain": [
       "(10000, 84)"
      ]
     },
     "execution_count": 109,
     "metadata": {},
     "output_type": "execute_result"
    }
   ],
   "source": [
    "liste_PCA=np.array(liste_PCA)\n",
    "liste_PCA=liste_PCA.reshape(len(liste_PCA), np.prod(liste_PCA.shape[1:]))\n",
    "liste_PCA.shape"
   ]
  },
  {
   "cell_type": "code",
   "execution_count": 66,
   "id": "778fbb8f",
   "metadata": {},
   "outputs": [],
   "source": [
    "list_taille_clusters=np.arange(1,160,4)"
   ]
  },
  {
   "cell_type": "code",
   "execution_count": 110,
   "id": "f3572327",
   "metadata": {},
   "outputs": [
    {
     "name": "stdout",
     "output_type": "stream",
     "text": [
      "97.5\n"
     ]
    }
   ],
   "source": [
    "list_clusters=[]\n",
    "j=0\n",
    "for i in list_taille_clusters:\n",
    "    if (0)==0 :\n",
    "        clear_output(wait=True)\n",
    "        print((j/len(list_taille_clusters))*100)\n",
    "    kmeans = KMeans(n_clusters=i) #sqrt(n)=K\n",
    "    list_clusters+= [kmeans.fit_predict(liste_PCA)]\n",
    "    j+=1"
   ]
  },
  {
   "cell_type": "code",
   "execution_count": 69,
   "id": "fd0d2d42",
   "metadata": {},
   "outputs": [
    {
     "name": "stdout",
     "output_type": "stream",
     "text": [
      "97.5\n"
     ]
    }
   ],
   "source": [
    "list_clusters=[]\n",
    "j=0\n",
    "for i in list_taille_clusters:\n",
    "    clear_output(wait=True)\n",
    "    print((j/len(list_taille_clusters))*100)\n",
    "    ac = AgglomerativeClustering(n_clusters=i)\n",
    "    clusters = ac.fit(liste_PCA)\n",
    "    list_clusters+= [clusters.labels_]\n",
    "    j+=1"
   ]
  },
  {
   "cell_type": "code",
   "execution_count": 111,
   "id": "0497049a",
   "metadata": {},
   "outputs": [],
   "source": [
    "for i in range (len(list_clusters)):\n",
    "    path=\".\\Clusters\\PCAKm\"+list_taille_clusters[i].astype(str) +\".npy \"\n",
    "    np.save(path, list_clusters[i])"
   ]
  },
  {
   "cell_type": "code",
   "execution_count": 22,
   "id": "4e730102",
   "metadata": {},
   "outputs": [
    {
     "data": {
      "text/plain": [
       "[array([0, 0, 0, ..., 0, 0, 0], dtype=int64),\n",
       " array([1, 0, 0, ..., 0, 0, 3], dtype=int64),\n",
       " array([1, 5, 4, ..., 4, 5, 2], dtype=int64),\n",
       " array([6, 2, 0, ..., 0, 2, 5], dtype=int64),\n",
       " array([ 2,  9,  3, ...,  3, 16,  5], dtype=int64),\n",
       " array([ 4,  9, 20, ..., 20, 16,  0], dtype=int64),\n",
       " array([ 4,  9, 20, ..., 20, 16, 10], dtype=int64),\n",
       " array([27,  4,  9, ...,  9,  7, 10], dtype=int64),\n",
       " array([27, 31,  9, ...,  9,  7,  1], dtype=int64),\n",
       " array([27, 31,  9, ...,  9, 33, 35], dtype=int64),\n",
       " array([27, 31,  9, ...,  9, 33, 17], dtype=int64),\n",
       " array([27, 15,  9, ...,  9, 16, 17], dtype=int64),\n",
       " array([27, 15,  9, ...,  9, 16, 17], dtype=int64),\n",
       " array([13, 15,  1, ...,  1, 16,  8], dtype=int64),\n",
       " array([13, 15, 10, ..., 55, 16,  8], dtype=int64),\n",
       " array([ 6,  3, 10, ..., 55, 16,  8], dtype=int64),\n",
       " array([ 6, 37, 10, ..., 55,  7,  3], dtype=int64),\n",
       " array([44, 37,  4, ..., 55,  7,  0], dtype=int64),\n",
       " array([44, 37, 39, ..., 55,  3, 42], dtype=int64),\n",
       " array([44, 37, 39, ..., 55, 46, 42], dtype=int64),\n",
       " array([44, 37, 39, ..., 55, 46, 42], dtype=int64),\n",
       " array([44, 37, 19, ..., 55, 46, 42], dtype=int64),\n",
       " array([44, 37, 19, ..., 55, 46, 42], dtype=int64),\n",
       " array([44, 37, 19, ..., 55, 46, 42], dtype=int64),\n",
       " array([21, 37, 19, ..., 55, 46, 42], dtype=int64),\n",
       " array([21, 18, 19, ..., 55, 46, 42], dtype=int64),\n",
       " array([21, 18, 19, ..., 55, 46, 20], dtype=int64),\n",
       " array([10, 18, 19, ..., 27, 46, 20], dtype=int64),\n",
       " array([10, 18, 19, ..., 13, 46, 20], dtype=int64),\n",
       " array([ 4,  8, 19, ..., 13, 46, 20], dtype=int64),\n",
       " array([ 1,  8,  9, ...,  0, 46, 20], dtype=int64),\n",
       " array([  0,   3,   9, ..., 105,  46,  20], dtype=int64),\n",
       " array([ 22,   0,   4, ..., 105,  46,   9], dtype=int64),\n",
       " array([ 22, 129,   0, ..., 105,  46,   4], dtype=int64),\n",
       " array([ 22, 129, 108, ..., 105,  46,   0], dtype=int64),\n",
       " array([ 22, 129, 108, ..., 105,  46, 137], dtype=int64),\n",
       " array([ 22, 129, 108, ..., 105,  46, 137], dtype=int64),\n",
       " array([ 22, 129, 108, ..., 105,  46, 137], dtype=int64),\n",
       " array([ 10, 129, 108, ..., 105,  46, 137], dtype=int64),\n",
       " array([ 10, 129, 108, ..., 105,  46, 137], dtype=int64)]"
      ]
     },
     "execution_count": 22,
     "metadata": {},
     "output_type": "execute_result"
    }
   ],
   "source": [
    "list_clusters"
   ]
  },
  {
   "cell_type": "code",
   "execution_count": null,
   "id": "3fbeb98f",
   "metadata": {},
   "outputs": [],
   "source": []
  }
 ],
 "metadata": {
  "kernelspec": {
   "display_name": "Python 3",
   "language": "python",
   "name": "python3"
  },
  "language_info": {
   "codemirror_mode": {
    "name": "ipython",
    "version": 3
   },
   "file_extension": ".py",
   "mimetype": "text/x-python",
   "name": "python",
   "nbconvert_exporter": "python",
   "pygments_lexer": "ipython3",
   "version": "3.8.8"
  }
 },
 "nbformat": 4,
 "nbformat_minor": 5
}
