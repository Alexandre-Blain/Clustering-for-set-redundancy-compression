{
 "cells": [
  {
   "cell_type": "markdown",
   "metadata": {},
   "source": [
    "# CIFAR10 Dataset Compression"
   ]
  },
  {
   "cell_type": "code",
   "execution_count": 1,
   "metadata": {},
   "outputs": [],
   "source": [
    "import numpy as np\n",
    "import matplotlib.pyplot as plt\n",
    "from Outil.dataloader import load_CIFAR10\n",
    "import matplotlib.pyplot as plt\n",
    "%matplotlib inline\n",
    "from keras.datasets import mnist, cifar10\n",
    "import ssl\n",
    "ssl._create_default_https_context = ssl._create_unverified_context\n",
    "import os \n",
    "import glob"
   ]
  },
  {
   "cell_type": "markdown",
   "metadata": {},
   "source": [
    "## Data Loading"
   ]
  },
  {
   "cell_type": "code",
   "execution_count": 79,
   "metadata": {},
   "outputs": [
    {
     "data": {
      "text/plain": [
       "(10000, 32, 32, 3)"
      ]
     },
     "execution_count": 79,
     "metadata": {},
     "output_type": "execute_result"
    }
   ],
   "source": [
    "(x_train, y_train), (x_test, y_test) = cifar10.load_data()\n",
    "\n",
    "X = np.concatenate([x_train, x_test])\n",
    "X=X[:10000,:]\n",
    "X.shape"
   ]
  },
  {
   "cell_type": "markdown",
   "metadata": {},
   "source": [
    "## Loading the clusters"
   ]
  },
  {
   "cell_type": "markdown",
   "metadata": {},
   "source": [
    "Here we'll load the clusters obtained from KMeans Clustering algorithm for different number of clusters into a dictionary for comparison purpose.\n",
    "\n",
    "Note that the clusters are saved in `.\\Clusters\\` folder"
   ]
  },
  {
   "cell_type": "code",
   "execution_count": 3,
   "metadata": {
    "scrolled": true
   },
   "outputs": [
    {
     "data": {
      "text/plain": [
       "{'PCAKm1.n': array([0, 0, 0, ..., 0, 0, 0]),\n",
       " 'PCAKm101': array([61, 34, 36, ..., 95, 26, 97]),\n",
       " 'PCAKm105': array([51, 68, 82, ..., 20,  7, 37]),\n",
       " 'PCAKm109': array([108, 102,  43, ...,  19,  13,  53]),\n",
       " 'PCAKm113': array([ 36,  23, 106, ..., 111,  73,  83]),\n",
       " 'PCAKm117': array([62,  1, 18, ...,  8, 74, 94]),\n",
       " 'PCAKm121': array([108, 101,  54, ...,  47,  49,  85]),\n",
       " 'PCAKm125': array([32, 81, 28, ..., 61, 17, 67]),\n",
       " 'PCAKm129': array([ 37,  22,  96, ..., 104,  25,  39]),\n",
       " 'PCAKm13.': array([ 7,  4,  1, ..., 11,  1,  9]),\n",
       " 'PCAKm133': array([35, 89, 36, ..., 44, 12, 48]),\n",
       " 'PCAKm137': array([ 66, 102, 111, ..., 114,  24,  47]),\n",
       " 'PCAKm141': array([ 47, 112, 108, ..., 138,  13, 116]),\n",
       " 'PCAKm145': array([110,  57,  25, ...,  65,  53,  75]),\n",
       " 'PCAKm149': array([67, 65, 69, ..., 20,  1, 85]),\n",
       " 'PCAKm153': array([143, 128,  59, ..., 138,  25, 145]),\n",
       " 'PCAKm157': array([144,  61, 100, ...,  22,   9,  56]),\n",
       " 'PCAKm17.': array([13, 14,  0, ..., 12,  0,  3]),\n",
       " 'PCAKm21.': array([12, 13,  9, ..., 19,  9, 16]),\n",
       " 'PCAKm25.': array([21, 14, 15, ..., 23, 11,  1]),\n",
       " 'PCAKm29.': array([22,  2, 28, ...,  1, 24,  8]),\n",
       " 'PCAKm33.': array([22,  9,  1, ...,  6, 26, 21]),\n",
       " 'PCAKm37.': array([ 5,  3,  1, ...,  8, 19, 24]),\n",
       " 'PCAKm41.': array([ 9, 11, 10, ..., 31, 21, 19]),\n",
       " 'PCAKm45.': array([16, 17,  8, ..., 25, 29, 19]),\n",
       " 'PCAKm49.': array([ 8,  9, 24, ..., 33, 32, 42]),\n",
       " 'PCAKm5.n': array([1, 0, 1, ..., 4, 1, 1]),\n",
       " 'PCAKm53.': array([44, 43,  5, ..., 29, 46,  1]),\n",
       " 'PCAKm57.': array([53, 35, 20, ..., 28, 49, 32]),\n",
       " 'PCAKm61.': array([57,  2,  4, ...,  0, 17, 47]),\n",
       " 'PCAKm65.': array([53, 47, 52, ..., 40, 17, 34]),\n",
       " 'PCAKm69.': array([22, 65, 66, ..., 58, 66, 33]),\n",
       " 'PCAKm73.': array([11, 33, 29, ...,  1, 15, 52]),\n",
       " 'PCAKm77.': array([34,  8, 67, ..., 32,  5, 66]),\n",
       " 'PCAKm81.': array([39, 24, 11, ..., 69, 11, 35]),\n",
       " 'PCAKm85.': array([71,  6, 55, ..., 30, 55, 80]),\n",
       " 'PCAKm89.': array([75, 14,  9, ..., 67, 40, 47]),\n",
       " 'PCAKm9.n': array([8, 7, 6, ..., 0, 6, 8]),\n",
       " 'PCAKm93.': array([63, 56, 28, ..., 29,  8, 44]),\n",
       " 'PCAKm97.': array([20, 12, 44, ..., 33, 64, 58])}"
      ]
     },
     "execution_count": 3,
     "metadata": {},
     "output_type": "execute_result"
    }
   ],
   "source": [
    "cluster_path = \"./Clusters/*.npy\"   # Path to all .npy files\n",
    "clusters = {}\n",
    "for f in glob.glob(cluster_path):\n",
    "    clusters[f[11:19]] = np.load(f,allow_pickle=True)\n",
    "\n",
    "clusters"
   ]
  },
  {
   "cell_type": "markdown",
   "metadata": {},
   "source": [
    "## Apply Compression Methods"
   ]
  },
  {
   "cell_type": "code",
   "execution_count": 4,
   "metadata": {},
   "outputs": [],
   "source": [
    "from Outil.compression import single_compression\n",
    "import min_max_diff_flatten_mnist as mmdf \n",
    "import cv2"
   ]
  },
  {
   "cell_type": "markdown",
   "metadata": {},
   "source": [
    "### Get the image sets (clusters)"
   ]
  },
  {
   "cell_type": "markdown",
   "metadata": {},
   "source": [
    "####  Prepare the directories for saving the compressed images"
   ]
  },
  {
   "cell_type": "code",
   "execution_count": 5,
   "metadata": {},
   "outputs": [
    {
     "name": "stdout",
     "output_type": "stream",
     "text": [
      "PCAKm1.n\n",
      "PCAKm101\n",
      "PCAKm105\n",
      "PCAKm109\n",
      "PCAKm113\n",
      "PCAKm117\n",
      "PCAKm121\n",
      "PCAKm125\n",
      "PCAKm129\n",
      "PCAKm13.\n",
      "PCAKm133\n",
      "PCAKm137\n",
      "PCAKm141\n",
      "PCAKm145\n",
      "PCAKm149\n",
      "PCAKm153\n",
      "PCAKm157\n",
      "PCAKm17.\n",
      "PCAKm21.\n",
      "PCAKm25.\n",
      "PCAKm29.\n",
      "PCAKm33.\n",
      "PCAKm37.\n",
      "PCAKm41.\n",
      "PCAKm45.\n",
      "PCAKm49.\n",
      "PCAKm5.n\n",
      "PCAKm53.\n",
      "PCAKm57.\n",
      "PCAKm61.\n",
      "PCAKm65.\n",
      "PCAKm69.\n",
      "PCAKm73.\n",
      "PCAKm77.\n",
      "PCAKm81.\n",
      "PCAKm85.\n",
      "PCAKm89.\n",
      "PCAKm9.n\n",
      "PCAKm93.\n",
      "PCAKm97.\n"
     ]
    }
   ],
   "source": [
    "for name, cluster in clusters.items():\n",
    "    print(name)\n",
    "    for value in np.unique(cluster):\n",
    "\n",
    "        path = \".\\Compression\\ \" + name  + \"\\ \"\n",
    "\n",
    "        if os.path.exists(path):\n",
    "            # os.rmdir(path)\n",
    "            files = glob.glob(path + '*')\n",
    "            for f in files:\n",
    "                os.remove(f)\n",
    "        else:\n",
    "            os.mkdir(path)"
   ]
  },
  {
   "cell_type": "code",
   "execution_count": 6,
   "metadata": {},
   "outputs": [
    {
     "name": "stdout",
     "output_type": "stream",
     "text": [
      "PCAKm1.n\n",
      "PCAKm101\n",
      "PCAKm105\n",
      "PCAKm109\n",
      "PCAKm113\n",
      "PCAKm117\n",
      "PCAKm121\n",
      "PCAKm125\n",
      "PCAKm129\n",
      "PCAKm13.\n",
      "PCAKm133\n",
      "PCAKm137\n",
      "PCAKm141\n",
      "PCAKm145\n",
      "PCAKm149\n",
      "PCAKm153\n",
      "PCAKm157\n",
      "PCAKm17.\n",
      "PCAKm21.\n",
      "PCAKm25.\n",
      "PCAKm29.\n",
      "PCAKm33.\n",
      "PCAKm37.\n",
      "PCAKm41.\n",
      "PCAKm45.\n",
      "PCAKm49.\n",
      "PCAKm5.n\n",
      "PCAKm53.\n",
      "PCAKm57.\n",
      "PCAKm61.\n",
      "PCAKm65.\n",
      "PCAKm69.\n",
      "PCAKm73.\n",
      "PCAKm77.\n",
      "PCAKm81.\n",
      "PCAKm85.\n",
      "PCAKm89.\n",
      "PCAKm9.n\n",
      "PCAKm93.\n",
      "PCAKm97.\n"
     ]
    }
   ],
   "source": [
    "for name, cluster in clusters.items():\n",
    "    print(name)\n",
    "    for value in np.unique(cluster):\n",
    "        image_set = X[cluster == value]\n",
    "        compressed_set, min, max = mmdf.Encoder(image_set)\n",
    "\n",
    "        # os.chdir(path)\n",
    "        path = \".\\Compression\\ \" + name  + \"\\ \"\n",
    "\n",
    "        for i in range(compressed_set.shape[0]):\n",
    "            cv2.imwrite(path + \"cluster\" + str(value) + 'im' + str(i) + \".png\", compressed_set[i].reshape((28,28,-1)))\n",
    "        \n",
    "        #cv2.imwrite(path + \"min\" + str(value) + \".png\", min.reshape((32,32,-1)))\n",
    "        #cv2.imwrite(path + \"max\" + str(value) + \".png\", max.reshape((32,32,-1)))\n",
    "        cv2.imwrite(path + \"min\" + str(value) + \".png\", min.reshape((28,28,-1)))\n",
    "        cv2.imwrite(path + \"max\" + str(value) + \".png\", max.reshape((28,28,-1)))\n"
   ]
  },
  {
   "cell_type": "markdown",
   "metadata": {},
   "source": [
    "#### Get size of compressed images"
   ]
  },
  {
   "cell_type": "code",
   "execution_count": 7,
   "metadata": {},
   "outputs": [],
   "source": [
    "import re"
   ]
  },
  {
   "cell_type": "code",
   "execution_count": 8,
   "metadata": {},
   "outputs": [],
   "source": [
    "liste_num=[]\n",
    "for name in clusters:\n",
    "    liste_num.append([float(s) for s in re.findall(r'-?\\d+\\.?\\d*', name)])"
   ]
  },
  {
   "cell_type": "code",
   "execution_count": 9,
   "metadata": {},
   "outputs": [],
   "source": [
    "liste_num=np.ravel(np.array(liste_num)).astype(int)"
   ]
  },
  {
   "cell_type": "code",
   "execution_count": 10,
   "metadata": {},
   "outputs": [],
   "source": [
    "liste_size=[]\n",
    "for name in clusters:\n",
    "    path = \".\\Compression\\ \" + name  + \"\\ \"\n",
    "    size = 0\n",
    "    for f in glob.glob(path + \"*.png\"):\n",
    "        size = size + os.path.getsize(f)\n",
    "    \n",
    "    liste_size.append(size)\n",
    "liste_size=np.ravel(liste_size)   #np.save(\".mmdf_\" + name + \"_png_size.npy\", size)"
   ]
  },
  {
   "cell_type": "code",
   "execution_count": 11,
   "metadata": {},
   "outputs": [
    {
     "data": {
      "text/plain": [
       "40"
      ]
     },
     "execution_count": 11,
     "metadata": {},
     "output_type": "execute_result"
    }
   ],
   "source": [
    "liste_size.shape[0]"
   ]
  },
  {
   "cell_type": "code",
   "execution_count": 12,
   "metadata": {},
   "outputs": [],
   "source": [
    "liste_graph=np.array([[liste_num],[liste_size]]).reshape(2,liste_size.shape[0])\n",
    "a=np.sort(liste_graph[0])"
   ]
  },
  {
   "cell_type": "code",
   "execution_count": 13,
   "metadata": {},
   "outputs": [],
   "source": [
    "l=0\n",
    "o=0\n",
    "for i in range(len(a)):\n",
    "    j=0\n",
    "    h=0\n",
    "    while j==0:\n",
    "        if a[i]==liste_graph[0][h]:\n",
    "            j+=1\n",
    "            l=liste_graph[0][i]\n",
    "            o=liste_graph[1][i]\n",
    "            liste_graph[0][i]=liste_graph[0][h]\n",
    "            liste_graph[1][i]=liste_graph[1][h]\n",
    "            liste_graph[0][h]=l\n",
    "            liste_graph[1][h]=o\n",
    "        h+=1"
   ]
  },
  {
   "cell_type": "code",
   "execution_count": 14,
   "metadata": {},
   "outputs": [],
   "source": [
    "#i=np.where(liste_graph[1]==np.amin(liste_graph[1]))\n",
    "#print(liste_graph[0,i])"
   ]
  },
  {
   "cell_type": "code",
   "execution_count": 19,
   "metadata": {},
   "outputs": [
    {
     "data": {
      "image/png": "[encoded data removed]",
      "text/plain": [
       "<Figure size 720x504 with 1 Axes>"
      ]
     },
     "metadata": {
      "needs_background": "light"
     },
     "output_type": "display_data"
    }
   ],
   "source": [
    "import matplotlib.pyplot as plt\n",
    "fig=plt.figure(figsize=(10,7))\n",
    "line=plt.plot(liste_graph[0],liste_graph[1], label='CcAc')\n",
    "#line1=plt.plot(liste_graph1[0],liste_graph1[1], label='Kmeans')\n",
    "#line2=plt.plot(liste_graph2[0],liste_graph2[1], label='CcKm')\n",
    "#line3=plt.plot(liste_graph3[0],liste_graph3[1], label='AC')\n",
    "#line4=plt.plot(liste_graph4[0],liste_graph4[1], label='PSNR')\n",
    "#line5=plt.plot(liste_graph5[0],liste_graph5[1], label='PCAAc')\n",
    "line6=plt.plot(liste_graph6[0],liste_graph6[1], label='PCAKm')\n",
    "#scale=plt.plot(np.arange(1,160,4),np.full(40,880000)) #Mnist scale\n",
    "#scale=plt.plot(np.arange(1,100,4),np.full(25,liste_graph[1,i]))\n",
    "\n",
    "plt.ylabel('size')\n",
    "plt.xlabel('nb cluster')\n",
    "#plt.title('Compression with clusters of features with a different Cifar10 (n=5e3)')\n",
    "#plt.setp(line1, color='r')\n",
    "#plt.setp(line2, color='b')\n",
    "#plt.setp(line3, color='g')\n",
    "#plt.setp(line4, color='k')\n",
    "#plt.setp(line5, color='m')\n",
    "#plt.setp(scale, color='y', linestyle='--')\n",
    "plt.legend()\n",
    "plt.show()"
   ]
  },
  {
   "cell_type": "code",
   "execution_count": 35,
   "metadata": {},
   "outputs": [],
   "source": [
    "#np.save(r'.\\résultats\\Cifar-10\\Min-Max flatten\\10k\\PCa_Ac.npy', liste_graph)\n",
    "#np.save(r'.\\résultats\\Cifar-10\\tuning_CcKm.npy', liste_graph)\n",
    "liste_graph1=np.load(r'.\\résultats\\Mnist\\Min-Max flatten\\10k\\Kmeans.npy')\n",
    "liste_graph2=np.load(r'.\\résultats\\Mnist\\Min-Max flatten\\10k\\CcKm.npy')\n",
    "liste_graph3=np.load(r'.\\résultats\\Mnist\\Min-Max flatten\\10k\\Ac.npy')\n",
    "liste_graph4=np.load(r'.\\résultats\\Mnist\\Min-Max flatten\\10k\\PSNR.npy')\n",
    "liste_graph5=np.load(r'.\\résultats\\Mnist\\Min-Max flatten\\10k\\PCa_Ac.npy')\n",
    "liste_graph6=np.load(r'.\\résultats\\Mnist\\Min-Max flatten\\10k\\PCa_Km.npy')\n",
    "liste_graph=np.load(r'.\\résultats\\Mnist\\Min-Max flatten\\10k\\CcAc.npy')"
   ]
  },
  {
   "cell_type": "code",
   "execution_count": 27,
   "metadata": {},
   "outputs": [],
   "source": [
    "liste_graph5=liste_graph"
   ]
  },
  {
   "cell_type": "code",
   "execution_count": 99,
   "metadata": {},
   "outputs": [],
   "source": [
    "labels=np.load(r'.\\cifar10 clust\\Pca_KM 10k\\PCAKm125.npy .npy')"
   ]
  },
  {
   "cell_type": "code",
   "execution_count": 100,
   "metadata": {},
   "outputs": [
    {
     "data": {
      "text/plain": [
       "array([ 63, 106,   7, ...,  46,  51,  90])"
      ]
     },
     "execution_count": 100,
     "metadata": {},
     "output_type": "execute_result"
    }
   ],
   "source": [
    "labels"
   ]
  },
  {
   "cell_type": "code",
   "execution_count": 102,
   "metadata": {},
   "outputs": [
    {
     "data": {
      "image/png": "[encoded data removed]",
      "text/plain": [
       "<Figure size 432x288 with 9 Axes>"
      ]
     },
     "metadata": {
      "needs_background": "light"
     },
     "output_type": "display_data"
    }
   ],
   "source": [
    "cluster1=X[np.where(labels==2)]\n",
    "for i in range(9):  \n",
    "    plt.subplot(330 + 1 + i)\n",
    "    plt.imshow(cluster1[i], cmap=plt.get_cmap('gray'))\n",
    "plt.show()"
   ]
  },
  {
   "cell_type": "markdown",
   "metadata": {},
   "source": [
    "## Min Max Predictive"
   ]
  },
  {
   "cell_type": "code",
   "execution_count": 9,
   "metadata": {},
   "outputs": [],
   "source": [
    "import min_max_predictive as mmp"
   ]
  },
  {
   "cell_type": "markdown",
   "metadata": {},
   "source": [
    "####  Prepare the directories for saving the compressed images"
   ]
  },
  {
   "cell_type": "code",
   "execution_count": 37,
   "metadata": {},
   "outputs": [
    {
     "name": "stdout",
     "output_type": "stream",
     "text": [
      "cifar10.\n",
      "CofC_ac_\n",
      "CofC_km_\n",
      "kmeans20\n"
     ]
    }
   ],
   "source": [
    "for name, cluster in clusters.items():\n",
    "    print(name)\n",
    "    for value in np.unique(cluster):\n",
    "\n",
    "        path = \".\\Compression\\ \" + name  + \"\\ \"\n",
    "\n",
    "        if os.path.exists(path):\n",
    "            # os.rmdir(path)\n",
    "            files = glob.glob(path + '*')\n",
    "            for f in files:\n",
    "                os.remove(f)\n",
    "        else:\n",
    "            os.mkdir(path)"
   ]
  },
  {
   "cell_type": "code",
   "execution_count": 38,
   "metadata": {},
   "outputs": [
    {
     "name": "stdout",
     "output_type": "stream",
     "text": [
      "cifar10.\n",
      "CofC_ac_\n",
      "CofC_km_\n",
      "kmeans20\n"
     ]
    }
   ],
   "source": [
    "for name, cluster in clusters.items():\n",
    "    print(name)\n",
    "    for value in np.unique(cluster):\n",
    "        image_set = X[cluster == value]\n",
    "        compressed_set, level, min, max = mmp.Encoder(image_set)\n",
    "\n",
    "        # os.chdir(path)\n",
    "        path = \".\\Compression\\ \" + name  + \"\\ \"\n",
    "\n",
    "        for i in range(compressed_set.shape[0]):\n",
    "            cv2.imwrite(path + \"cluster\" + str(value) + 'im' + str(i) + \".png\", compressed_set[i])\n",
    "        \n",
    "        np.save(path + \"level\" + str(value) + \".npy\", level)\n",
    "        cv2.imwrite(path + \"min\" + str(value) + \".png\", min)\n",
    "        cv2.imwrite(path + \"max\" + str(value) + \".png\", max)\n"
   ]
  },
  {
   "cell_type": "markdown",
   "metadata": {},
   "source": [
    "#### Get size of compressed images"
   ]
  },
  {
   "cell_type": "code",
   "execution_count": 40,
   "metadata": {},
   "outputs": [
    {
     "name": "stdout",
     "output_type": "stream",
     "text": [
      "11112362\n",
      "11311116\n",
      "11302387\n",
      "11535596\n"
     ]
    }
   ],
   "source": [
    "for name in clusters:\n",
    "    path = \".\\Compression\\ \" + name  + \"\\ \"\n",
    "\n",
    "    size = 0\n",
    "    for f in glob.glob(path + \"*.png\"):\n",
    "        size = size + os.path.getsize(f)\n",
    "    for f in glob.glob(path + \"*.npy\"):\n",
    "        size = size + os.path.getsize(f)\n",
    "    \n",
    "    print(size)\n",
    "    np.save(\".mmdf_\" + name + \"_png_size.npy\", size)"
   ]
  },
  {
   "cell_type": "markdown",
   "metadata": {},
   "source": [
    "## Combine with Delta Encoding"
   ]
  },
  {
   "cell_type": "code",
   "execution_count": 41,
   "metadata": {},
   "outputs": [],
   "source": [
    "import delta"
   ]
  },
  {
   "cell_type": "markdown",
   "metadata": {},
   "source": [
    "####  Prepare the directories for saving the compressed images"
   ]
  },
  {
   "cell_type": "code",
   "execution_count": 42,
   "metadata": {},
   "outputs": [
    {
     "name": "stdout",
     "output_type": "stream",
     "text": [
      "cifar10.\n",
      "CofC_ac_\n",
      "CofC_km_\n",
      "kmeans20\n"
     ]
    }
   ],
   "source": [
    "for name, cluster in clusters.items():\n",
    "    print(name)\n",
    "    for value in np.unique(cluster):\n",
    "\n",
    "        path = \".\\Compression\\ \" + name  + \"\\ \"\n",
    "\n",
    "        if os.path.exists(path):\n",
    "            # os.rmdir(path)\n",
    "            files = glob.glob(path + '*')\n",
    "            for f in files:\n",
    "                os.remove(f)\n",
    "        else:\n",
    "            os.mkdir(path)"
   ]
  },
  {
   "cell_type": "code",
   "execution_count": 43,
   "metadata": {},
   "outputs": [
    {
     "name": "stdout",
     "output_type": "stream",
     "text": [
      "cifar10.\n",
      "CofC_ac_\n",
      "CofC_km_\n",
      "kmeans20\n"
     ]
    }
   ],
   "source": [
    "for name, cluster in clusters.items():\n",
    "    print(name)\n",
    "    for value in np.unique(cluster):\n",
    "        image_set = X[cluster == value]\n",
    "        image_set = delta.Delta_Encoder(image_set)\n",
    "        compressed_set, min, max = mmdf.Encoder(image_set)\n",
    "        \n",
    "\n",
    "        # os.chdir(path)\n",
    "        path = \".\\Dataset\\Compressed\\delta_mmdf_png\\ \" + name  + \"\\ \"\n",
    "\n",
    "        for i in range(compressed_set.shape[0]):\n",
    "            cv2.imwrite(path + \"cluster\" + str(value) + 'im' + str(i) + \".png\", compressed_set[i])\n",
    "        \n",
    "        cv2.imwrite(path + \"min\" + str(value) + \".png\", min)\n",
    "        cv2.imwrite(path + \"max\" + str(value) + \".png\", max)\n"
   ]
  },
  {
   "cell_type": "markdown",
   "metadata": {},
   "source": [
    "#### Get size of compressed images"
   ]
  },
  {
   "cell_type": "code",
   "execution_count": 44,
   "metadata": {},
   "outputs": [
    {
     "name": "stdout",
     "output_type": "stream",
     "text": [
      "0\n",
      "0\n",
      "0\n",
      "0\n"
     ]
    }
   ],
   "source": [
    "for name in clusters:\n",
    "    path = \".\\Compression\\ \" + name  + \"\\ \"\n",
    "\n",
    "    size = 0\n",
    "    for f in glob.glob(path + \"*.png\"):\n",
    "        size = size + os.path.getsize(f)\n",
    "    \n",
    "    print(size)\n",
    "    np.save(\".mmdf_\" + name + \"_png_size.npy\", size)"
   ]
  },
  {
   "cell_type": "markdown",
   "metadata": {},
   "source": [
    "## Delta and PNG"
   ]
  },
  {
   "cell_type": "markdown",
   "metadata": {},
   "source": [
    "####  Prepare the directories for saving the compressed images"
   ]
  },
  {
   "cell_type": "code",
   "execution_count": 45,
   "metadata": {},
   "outputs": [],
   "source": [
    "\n",
    "path_png = \".\\Compression\\delta_png\\ \"\n",
    "\n",
    "if os.path.exists(path_png):\n",
    "    # os.rmdir(path_png)\n",
    "    files = glob.glob(path_png + '*')\n",
    "    for f in files:\n",
    "        os.remove(f)\n",
    "else:\n",
    "    os.mkdir(path_png)\n",
    "\n",
    "# os.chdir(path_png)\n",
    "\n",
    "X_delta = delta.Delta_Encoder(X)\n",
    "\n",
    "for i in range(X.shape[0]):\n",
    "    cv2.imwrite(path_png + str(i) + \".png\", X_delta[i,:,:,:])\n"
   ]
  },
  {
   "cell_type": "markdown",
   "metadata": {},
   "source": [
    "#### Get size of compressed images"
   ]
  },
  {
   "cell_type": "code",
   "execution_count": 46,
   "metadata": {},
   "outputs": [
    {
     "name": "stdout",
     "output_type": "stream",
     "text": [
      "4602876\n"
     ]
    }
   ],
   "source": [
    "\n",
    "path = \".\\Compression\\delta_png\\ \"\n",
    "\n",
    "size = 0\n",
    "for f in glob.glob(path + \"*.png\"):\n",
    "    size = size + os.path.getsize(f)\n",
    "\n",
    "print(size)\n",
    "np.save(\".mmdf_\" + name + \"_png_size.npy\", size)"
   ]
  },
  {
   "cell_type": "code",
   "execution_count": null,
   "metadata": {},
   "outputs": [],
   "source": []
  }
 ],
 "metadata": {
  "interpreter": {
   "hash": "8ccd7312afbc7f6b085d2146f709040387adf44f7120b2b3d2b8d45900fc5481"
  },
  "kernelspec": {
   "display_name": "Python 3",
   "language": "python",
   "name": "python3"
  },
  "language_info": {
   "codemirror_mode": {
    "name": "ipython",
    "version": 3
   },
   "file_extension": ".py",
   "mimetype": "text/x-python",
   "name": "python",
   "nbconvert_exporter": "python",
   "pygments_lexer": "ipython3",
   "version": "3.8.8"
  }
 },
 "nbformat": 4,
 "nbformat_minor": 2
}
