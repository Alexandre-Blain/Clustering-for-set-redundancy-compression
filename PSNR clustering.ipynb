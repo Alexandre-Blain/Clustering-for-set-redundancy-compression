{
 "cells": [
  {
   "cell_type": "code",
   "execution_count": 1,
   "id": "9b17508b",
   "metadata": {},
   "outputs": [],
   "source": [
    "import numpy as np\n",
    "import matplotlib.pyplot as plt\n",
    "from sklearn.cluster import KMeans\n",
    "from sklearn.cluster import AgglomerativeClustering\n",
    "import seaborn as sns\n",
    "from keras.datasets import mnist, cifar10\n",
    "import ssl\n",
    "ssl._create_default_https_context = ssl._create_unverified_context\n",
    "from IPython.display import clear_output"
   ]
  },
  {
   "cell_type": "code",
   "execution_count": 2,
   "id": "c6c1977b",
   "metadata": {},
   "outputs": [
    {
     "data": {
      "text/plain": [
       "(70000, 28, 28)"
      ]
     },
     "execution_count": 2,
     "metadata": {},
     "output_type": "execute_result"
    }
   ],
   "source": [
    "(x_train, y_train), (x_test, y_test) = mnist.load_data()\n",
    "x_train= np.concatenate([x_train, x_test])\n",
    "x_train.shape"
   ]
  },
  {
   "cell_type": "code",
   "execution_count": 3,
   "id": "0c7698c9",
   "metadata": {},
   "outputs": [],
   "source": [
    "def PSNR(I,Iref):\n",
    "    mse=np.mean((Iref-I)**2)\n",
    "    if mse==0:#MSE nul veut dire qu'il n'y a pas de bruit dans le signal donc psnr sans importance\n",
    "        return 10000\n",
    "    max_pixel=255\n",
    "    psnr=np.exp((max_pixel/np.sqrt(mse)))/10**9\n",
    "    return psnr"
   ]
  },
  {
   "cell_type": "code",
   "execution_count": 4,
   "id": "d3edd5d3",
   "metadata": {},
   "outputs": [],
   "source": [
    "#création d'une matrice de distance des images en utilisant le PSNR comme métrique\n",
    "def mat_sim(data):\n",
    "    n=len(data)\n",
    "    mat_psnr=np.zeros((n,n))\n",
    "    for i in range (n):\n",
    "        if (i%100)==0 :\n",
    "            clear_output(wait=True)\n",
    "            print((i/len(xcut))*100)\n",
    "        for j in range (i+1,n):\n",
    "            mat_psnr[i,j]=PSNR(x_train[j],x_train[i])\n",
    "            mat_psnr[j,i]=PSNR(x_train[j],x_train[i])\n",
    "    return mat_psnr"
   ]
  },
  {
   "cell_type": "code",
   "execution_count": 7,
   "id": "de1d7016",
   "metadata": {},
   "outputs": [
    {
     "data": {
      "text/plain": [
       "(100, 28, 28)"
      ]
     },
     "execution_count": 7,
     "metadata": {},
     "output_type": "execute_result"
    }
   ],
   "source": [
    "xcut=x_train[:100,:]\n",
    "xcut.shape"
   ]
  },
  {
   "cell_type": "code",
   "execution_count": 8,
   "id": "b4eebfed",
   "metadata": {},
   "outputs": [
    {
     "name": "stdout",
     "output_type": "stream",
     "text": [
      "0.0\n"
     ]
    }
   ],
   "source": [
    "mat_dist=-(mat_sim(xcut))"
   ]
  },
  {
   "cell_type": "code",
   "execution_count": 9,
   "id": "025ab5a4",
   "metadata": {},
   "outputs": [
    {
     "data": {
      "text/plain": [
       "(100, 100)"
      ]
     },
     "execution_count": 9,
     "metadata": {},
     "output_type": "execute_result"
    }
   ],
   "source": [
    "mat_dist.astype(int).shape"
   ]
  },
  {
   "cell_type": "code",
   "execution_count": 10,
   "id": "366eac74",
   "metadata": {},
   "outputs": [],
   "source": [
    "list_taille_clusters=np.arange(1,160,4)"
   ]
  },
  {
   "cell_type": "code",
   "execution_count": 34,
   "id": "e0787b6e",
   "metadata": {},
   "outputs": [
    {
     "name": "stdout",
     "output_type": "stream",
     "text": [
      "97.5\n"
     ]
    }
   ],
   "source": [
    "#utilisaion de l'agglomerative clustering pour compute la matrice de distance\n",
    "list_clusters_ac=[]\n",
    "j=0\n",
    "for i in list_taille_clusters:\n",
    "    clear_output(wait=True)\n",
    "    print((j/len(list_taille_clusters))*100)\n",
    "    ac = AgglomerativeClustering(n_clusters=i, affinity='precomputed',linkage='average')\n",
    "    clusters = ac.fit_predict((mat_dist.astype(int)))\n",
    "    list_clusters_ac+= [clusters]\n",
    "    j+=1\n",
    "    "
   ]
  },
  {
   "cell_type": "code",
   "execution_count": 35,
   "id": "c86000cb",
   "metadata": {},
   "outputs": [],
   "source": [
    "for i in range (len(list_clusters_ac)):\n",
    "    path=\".\\Clusters\\PSNR\"+list_taille_clusters[i].astype(str) +\".npy \"\n",
    "    np.save(path, list_clusters_ac[i])"
   ]
  },
  {
   "cell_type": "code",
   "execution_count": null,
   "id": "41b45972",
   "metadata": {},
   "outputs": [],
   "source": []
  }
 ],
 "metadata": {
  "kernelspec": {
   "display_name": "Python 3",
   "language": "python",
   "name": "python3"
  },
  "language_info": {
   "codemirror_mode": {
    "name": "ipython",
    "version": 3
   },
   "file_extension": ".py",
   "mimetype": "text/x-python",
   "name": "python",
   "nbconvert_exporter": "python",
   "pygments_lexer": "ipython3",
   "version": "3.8.8"
  }
 },
 "nbformat": 4,
 "nbformat_minor": 5
}
