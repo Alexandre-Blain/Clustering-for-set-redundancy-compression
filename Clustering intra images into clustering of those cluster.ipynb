{
 "cells": [
  {
   "cell_type": "code",
   "execution_count": 1,
   "id": "4c8f155c",
   "metadata": {},
   "outputs": [],
   "source": [
    "import numpy as np\n",
    "from sklearn.decomposition import PCA\n",
    "from sklearn.cluster import AgglomerativeClustering\n",
    "from scipy.cluster.hierarchy import dendrogram, linkage\n",
    "import matplotlib.pyplot as plt\n",
    "from sklearn.cluster import KMeans\n",
    "import seaborn as sns\n",
    "from keras.datasets import mnist, cifar10\n",
    "import ssl\n",
    "ssl._create_default_https_context = ssl._create_unverified_context\n",
    "from IPython.display import clear_output\n",
    "import warnings\n",
    "warnings.filterwarnings(\"ignore\")"
   ]
  },
  {
   "cell_type": "code",
   "execution_count": 2,
   "id": "a23b171d",
   "metadata": {},
   "outputs": [
    {
     "data": {
      "text/plain": [
       "(70000, 28, 28)"
      ]
     },
     "execution_count": 2,
     "metadata": {},
     "output_type": "execute_result"
    }
   ],
   "source": [
    "(x_train, y_train), (x_test, y_test) = mnist.load_data()\n",
    "x_train= np.concatenate([x_train, x_test])\n",
    "x_train.shape"
   ]
  },
  {
   "cell_type": "code",
   "execution_count": 4,
   "id": "4c8f4fe7",
   "metadata": {},
   "outputs": [],
   "source": [
    "x_train = x_train.astype('float32')/255.\n",
    "#x_train = x_train.reshape((len(x_train), np.prod(x_train.shape[1:3]), 3))"
   ]
  },
  {
   "cell_type": "code",
   "execution_count": 5,
   "id": "bc1903a6",
   "metadata": {},
   "outputs": [
    {
     "data": {
      "text/plain": [
       "(10000, 28, 28)"
      ]
     },
     "execution_count": 5,
     "metadata": {},
     "output_type": "execute_result"
    }
   ],
   "source": [
    "xcut=x_train[:10000,:]\n",
    "xcut.shape"
   ]
  },
  {
   "cell_type": "code",
   "execution_count": 6,
   "id": "741a6aa3",
   "metadata": {},
   "outputs": [
    {
     "name": "stdout",
     "output_type": "stream",
     "text": [
      "0.0\n"
     ]
    }
   ],
   "source": [
    "#clustering intra-image qui permet d'extraire les features\n",
    "kmeans = KMeans(n_clusters=10)\n",
    "list_clusters=[]\n",
    "for i in range (len(xcut)):\n",
    "    if (i%100)==0 :\n",
    "        clear_output(wait=True)\n",
    "        print((i/len(xcut))*100)\n",
    "    list_clusters+=[kmeans.fit_predict(xcut[i])]"
   ]
  },
  {
   "cell_type": "code",
   "execution_count": 13,
   "id": "b9f9e4af",
   "metadata": {},
   "outputs": [],
   "source": [
    "#fonction qui réordonne le numéro des clusters pour qu'il soit le meme dans chaque image\n",
    "def same_clusters(list_clusters,k):\n",
    "    x=np.array(list_clusters).shape\n",
    "    a=0\n",
    "    for i in range (x[0]):\n",
    "        all_clusters=np.arange(k)\n",
    "        used_clusters=[]\n",
    "        for j in range (x[1]):\n",
    "            if list_clusters[i][j] not in used_clusters:\n",
    "                a=list_clusters[i][j]\n",
    "                used_clusters.append(all_clusters[0])\n",
    "                for k in range(x[1]):\n",
    "                    if list_clusters[i][k]==a:\n",
    "                        list_clusters[i][k]=all_clusters[0]\n",
    "                    elif list_clusters[i][k]==all_clusters[0]:\n",
    "                        list_clusters[i][k]=a\n",
    "                all_clusters=np.delete(all_clusters,0)\n",
    "    return list_clusters\n",
    "    "
   ]
  },
  {
   "cell_type": "code",
   "execution_count": 14,
   "id": "61dc239b",
   "metadata": {},
   "outputs": [],
   "source": [
    "this_is_the_end=np.array(same_clusters(list_clusters,90))"
   ]
  },
  {
   "cell_type": "code",
   "execution_count": 15,
   "id": "73818cbf",
   "metadata": {},
   "outputs": [],
   "source": [
    "list_taille_clusters=np.arange(1,160,4)"
   ]
  },
  {
   "cell_type": "code",
   "execution_count": 16,
   "id": "463e1743",
   "metadata": {},
   "outputs": [
    {
     "name": "stdout",
     "output_type": "stream",
     "text": [
      "97.5\n"
     ]
    }
   ],
   "source": [
    "#création des clusters d'images déjà clusterisé\n",
    "list_clusters_ac=[]\n",
    "j=0\n",
    "for i in list_taille_clusters:\n",
    "    clear_output(wait=True)\n",
    "    print((j/len(list_taille_clusters))*100)\n",
    "    ac = AgglomerativeClustering(n_clusters=i)\n",
    "    clusters = ac.fit(this_is_the_end)\n",
    "    list_clusters_ac+= [clusters.labels_]\n",
    "    j+=1\n",
    "    "
   ]
  },
  {
   "cell_type": "code",
   "execution_count": 19,
   "id": "b4a203cb",
   "metadata": {},
   "outputs": [],
   "source": [
    "list_clusters_kmeans=[]\n",
    "for i in list_taille_clusters:\n",
    "    kmeans = KMeans(n_clusters=i) #sqrt(n)=K\n",
    "    clusters_kmeans= kmeans.fit_predict(this_is_the_end)\n",
    "    list_clusters_kmeans+= [clusters_kmeans]"
   ]
  },
  {
   "cell_type": "code",
   "execution_count": 15,
   "id": "cb215226",
   "metadata": {},
   "outputs": [
    {
     "name": "stderr",
     "output_type": "stream",
     "text": [
      "<ipython-input-15-a91d7851abf1>:7: VisibleDeprecationWarning: Creating an ndarray from ragged nested sequences (which is a list-or-tuple of lists-or-tuples-or ndarrays with different lengths or shapes) is deprecated. If you meant to do this, you must specify 'dtype=object' when creating the ndarray.\n",
      "  clusters2 = np.array(clusters2)\n"
     ]
    }
   ],
   "source": [
    "#sauvegarde des clusters\n",
    "n = clusters_kmeans.max()\n",
    "j = np.shape(clusters_kmeans)[0]\n",
    "clusters2 =[[] for x in range(j)]\n",
    "for i in range(j):\n",
    "    clusters2[clusters_kmeans[i]].append(i)\n",
    "\n",
    "clusters2 = np.array(clusters2)\n",
    "clusters2= clusters2[:n]\n",
    "np.save('.\\Clusters\\CofC_km_cifar10.npy', clusters2)"
   ]
  },
  {
   "cell_type": "code",
   "execution_count": 12,
   "id": "51086773",
   "metadata": {},
   "outputs": [],
   "source": [
    "np.save('.\\Clusters\\CofC_km_cifar10.npy', clusters_kmeans)"
   ]
  },
  {
   "cell_type": "code",
   "execution_count": 26,
   "id": "3d52858f",
   "metadata": {},
   "outputs": [],
   "source": [
    "for i in range (len(list_clusters_kmeans)):\n",
    "    path=\".\\Clusters\\CcKm\"+list_taille_clusters[i].astype(str) +\".npy \"\n",
    "    np.save(path, list_clusters_kmeans[i])"
   ]
  }
 ],
 "metadata": {
  "kernelspec": {
   "display_name": "Python 3",
   "language": "python",
   "name": "python3"
  },
  "language_info": {
   "codemirror_mode": {
    "name": "ipython",
    "version": 3
   },
   "file_extension": ".py",
   "mimetype": "text/x-python",
   "name": "python",
   "nbconvert_exporter": "python",
   "pygments_lexer": "ipython3",
   "version": "3.8.8"
  }
 },
 "nbformat": 4,
 "nbformat_minor": 5
}
